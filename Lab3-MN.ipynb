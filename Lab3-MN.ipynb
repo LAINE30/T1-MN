{
 "cells": [
  {
   "cell_type": "markdown",
   "id": "02219a3b-7ebb-4dac-b471-a87c150fee17",
   "metadata": {},
   "source": [
    "#Taller 0-1 Notebook"
   ]
  },
  {
   "cell_type": "code",
   "execution_count": null,
   "id": "4bc263b7-9b43-44b2-b3bb-c8b662475974",
   "metadata": {},
   "outputs": [],
   "source": [
    "Google colab\n",
    "kaggle\n",
    "visual studio code\n"
   ]
  },
  {
   "cell_type": "code",
   "execution_count": 31,
   "id": "2468f1c8-068f-4abf-a97d-40a227a9b6d7",
   "metadata": {},
   "outputs": [],
   "source": [
    "def eqn(x: int) -> int:\n",
    "    # ** símbolo de potencia en python, no se usa el `^` como en otros lenguajes\n",
    "    return x**3 - 7 * x**2 + 4 * x + 12"
   ]
  },
  {
   "cell_type": "code",
   "execution_count": 59,
   "id": "58175e9a-d973-451c-ac9f-c769c4ad8f4c",
   "metadata": {},
   "outputs": [
    {
     "name": "stdout",
     "output_type": "stream",
     "text": [
      "x = -10.00 \ty = -1728.00\n",
      "x = -9.80 \ty = -1639.80\n",
      "x = -9.60 \ty = -1554.58\n",
      "x = -9.39 \ty = -1472.28\n",
      "x = -9.19 \ty = -1392.85\n",
      "x = -8.99 \ty = -1316.24\n",
      "x = -8.79 \ty = -1242.40\n",
      "x = -8.59 \ty = -1171.29\n",
      "x = -8.38 \ty = -1102.85\n",
      "x = -8.18 \ty = -1037.03\n",
      "x = -7.98 \ty = -973.79\n",
      "x = -7.78 \ty = -913.08\n",
      "x = -7.58 \ty = -854.84\n",
      "x = -7.37 \ty = -799.02\n",
      "x = -7.17 \ty = -745.59\n",
      "x = -6.97 \ty = -694.48\n",
      "x = -6.77 \ty = -645.65\n",
      "x = -6.57 \ty = -599.05\n",
      "x = -6.36 \ty = -554.63\n",
      "x = -6.16 \ty = -512.33\n",
      "x = -5.96 \ty = -472.12\n",
      "x = -5.76 \ty = -433.94\n",
      "x = -5.56 \ty = -397.74\n",
      "x = -5.35 \ty = -363.47\n",
      "x = -5.15 \ty = -331.08\n",
      "x = -4.95 \ty = -300.53\n",
      "x = -4.75 \ty = -271.76\n",
      "x = -4.55 \ty = -244.72\n",
      "x = -4.34 \ty = -219.37\n",
      "x = -4.14 \ty = -195.66\n",
      "x = -3.94 \ty = -173.52\n",
      "x = -3.74 \ty = -152.93\n",
      "x = -3.54 \ty = -133.82\n",
      "x = -3.33 \ty = -116.15\n",
      "x = -3.13 \ty = -99.86\n",
      "x = -2.93 \ty = -84.92\n",
      "x = -2.73 \ty = -71.26\n",
      "x = -2.53 \ty = -58.84\n",
      "x = -2.32 \ty = -47.61\n",
      "x = -2.12 \ty = -37.53\n",
      "x = -1.92 \ty = -28.53\n",
      "x = -1.72 \ty = -20.57\n",
      "x = -1.52 \ty = -13.61\n",
      "x = -1.31 \ty = -7.59\n",
      "x = -1.11 \ty = -2.46\n",
      "x = -0.91 \ty = 1.83\n",
      "x = -0.71 \ty = 5.32\n",
      "x = -0.51 \ty = 8.07\n",
      "x = -0.30 \ty = 10.12\n",
      "x = -0.10 \ty = 11.52\n",
      "x = 0.10 \ty = 12.33\n",
      "x = 0.30 \ty = 12.60\n",
      "x = 0.51 \ty = 12.36\n",
      "x = 0.71 \ty = 11.68\n",
      "x = 0.91 \ty = 10.60\n",
      "x = 1.11 \ty = 9.17\n",
      "x = 1.31 \ty = 7.45\n",
      "x = 1.52 \ty = 5.47\n",
      "x = 1.72 \ty = 3.29\n",
      "x = 1.92 \ty = 0.96\n",
      "x = 2.12 \ty = -1.47\n",
      "x = 2.32 \ty = -3.95\n",
      "x = 2.53 \ty = -6.43\n",
      "x = 2.73 \ty = -8.87\n",
      "x = 2.93 \ty = -11.21\n",
      "x = 3.13 \ty = -13.41\n",
      "x = 3.33 \ty = -15.41\n",
      "x = 3.54 \ty = -17.16\n",
      "x = 3.74 \ty = -18.62\n",
      "x = 3.94 \ty = -19.74\n",
      "x = 4.14 \ty = -20.46\n",
      "x = 4.34 \ty = -20.74\n",
      "x = 4.55 \ty = -20.53\n",
      "x = 4.75 \ty = -19.78\n",
      "x = 4.95 \ty = -18.43\n",
      "x = 5.15 \ty = -16.45\n",
      "x = 5.35 \ty = -13.77\n",
      "x = 5.56 \ty = -10.36\n",
      "x = 5.76 \ty = -6.16\n",
      "x = 5.96 \ty = -1.11\n",
      "x = 6.16 \ty = 4.82\n",
      "x = 6.36 \ty = 11.68\n",
      "x = 6.57 \ty = 19.54\n",
      "x = 6.77 \ty = 28.43\n",
      "x = 6.97 \ty = 38.41\n",
      "x = 7.17 \ty = 49.52\n",
      "x = 7.37 \ty = 61.82\n",
      "x = 7.58 \ty = 75.35\n",
      "x = 7.78 \ty = 90.16\n",
      "x = 7.98 \ty = 106.31\n",
      "x = 8.18 \ty = 123.84\n",
      "x = 8.38 \ty = 142.80\n",
      "x = 8.59 \ty = 163.25\n",
      "x = 8.79 \ty = 185.22\n",
      "x = 8.99 \ty = 208.78\n",
      "x = 9.19 \ty = 233.97\n",
      "x = 9.39 \ty = 260.83\n",
      "x = 9.60 \ty = 289.43\n",
      "x = 9.80 \ty = 319.80\n",
      "x = 10.00 \ty = 352.00\n"
     ]
    },
    {
     "data": {
      "text/plain": [
       "[-1728.0,\n",
       " -1639.8048354167117,\n",
       " -1554.580301535918,\n",
       " -1472.2769290703177,\n",
       " -1392.8452487326072,\n",
       " -1316.235791235485,\n",
       " -1242.399087291649,\n",
       " -1171.2856676137978,\n",
       " -1102.8460629146275,\n",
       " -1037.0308039068368,\n",
       " -973.7904213031238,\n",
       " -913.0754458161864,\n",
       " -854.8364081587223,\n",
       " -799.0238390434289,\n",
       " -745.5882691830043,\n",
       " -694.4802292901467,\n",
       " -645.6502500775536,\n",
       " -599.0488622579225,\n",
       " -554.626596543952,\n",
       " -512.3339836483393,\n",
       " -472.12155428378253,\n",
       " -433.93983916297975,\n",
       " -397.7393689986282,\n",
       " -363.4706745034263,\n",
       " -331.0842863900715,\n",
       " -300.5307353712619,\n",
       " -271.76055215969507,\n",
       " -244.72426746806917,\n",
       " -219.37241200908173,\n",
       " -195.65551649543085,\n",
       " -173.52411163981412,\n",
       " -152.92872815492962,\n",
       " -133.81989675347498,\n",
       " -116.14814814814812,\n",
       " -99.86401305164698,\n",
       " -84.91802217666924,\n",
       " -71.26070623591286,\n",
       " -58.842595942075576,\n",
       " -47.614222007855325,\n",
       " -37.52611514594985,\n",
       " -28.52880606905704,\n",
       " -20.572825489874802,\n",
       " -13.608704121100828,\n",
       " -7.586972675433039,\n",
       " -2.458161865569263,\n",
       " 1.8271975957926188,\n",
       " 5.318574995954847,\n",
       " 8.065439622219541,\n",
       " 10.117260761888863,\n",
       " 11.523507702264975,\n",
       " 12.333649730650034,\n",
       " 12.597156134346218,\n",
       " 12.363496200655675,\n",
       " 11.682139216880568,\n",
       " 10.60255447032307,\n",
       " 9.174211248285324,\n",
       " 7.446578838069502,\n",
       " 5.469126526977762,\n",
       " 3.2913236023122874,\n",
       " 0.9626393513752021,\n",
       " -1.4674569385313134,\n",
       " -3.9494959801051053,\n",
       " -6.434008486043975,\n",
       " -8.871525169045825,\n",
       " -11.212576741808455,\n",
       " -13.407693917029704,\n",
       " -15.407407407407405,\n",
       " -17.162247925639413,\n",
       " -18.622746184423562,\n",
       " -19.739432896457686,\n",
       " -20.462838774439618,\n",
       " -20.743494531067228,\n",
       " -20.531930879038292,\n",
       " -19.778678531050744,\n",
       " -18.43426819980234,\n",
       " -16.44923059799094,\n",
       " -13.774096438314402,\n",
       " -10.3593964334705,\n",
       " -6.155661296157206,\n",
       " -1.113421739072237,\n",
       " 4.816791525086629,\n",
       " 11.684447783621309,\n",
       " 19.539016323834105,\n",
       " 28.429966433027374,\n",
       " 38.40676739850289,\n",
       " 49.518888507563176,\n",
       " 61.81579904751011,\n",
       " 75.34696830564592,\n",
       " 90.16186556927303,\n",
       " 106.30996012569318,\n",
       " 123.84072126220863,\n",
       " 142.80361826612216,\n",
       " 163.24812042473496,\n",
       " 185.22369702535005,\n",
       " 208.77981735526873,\n",
       " 233.96595070179373,\n",
       " 260.8315663522275,\n",
       " 289.4261335938715,\n",
       " 319.7991217140285,\n",
       " 352.0]"
      ]
     },
     "execution_count": 59,
     "metadata": {},
     "output_type": "execute_result"
    }
   ],
   "source": [
    " Ys = []\n",
    "for x in Xs:\n",
    "    y = eqn(x)\n",
    "    #Xs.append(x)\n",
    "    Ys.append(y)\n",
    "    print(f\"x = {x:.2f} \\ty = {y:.2f}\")\n",
    "Ys\n",
    "\n"
   ]
  },
  {
   "cell_type": "code",
   "execution_count": 61,
   "id": "1dfaf85b-5bac-46f7-8f80-fee8beb920fd",
   "metadata": {},
   "outputs": [
    {
     "data": {
      "text/plain": [
       "100"
      ]
     },
     "execution_count": 61,
     "metadata": {},
     "output_type": "execute_result"
    }
   ],
   "source": [
    "import numpy as np\n",
    "Xs, step = np.linspace(-10,10, num =100,retstep = True)\n",
    "len(Xs)"
   ]
  },
  {
   "cell_type": "code",
   "execution_count": 63,
   "id": "e8c034cd-1805-4c32-be3c-249774c2c57a",
   "metadata": {},
   "outputs": [
    {
     "data": {
      "text/plain": [
       "[<matplotlib.lines.Line2D at 0x1f7d1651bb0>]"
      ]
     },
     "execution_count": 63,
     "metadata": {},
     "output_type": "execute_result"
    },
    {
     "data": {
      "image/png": "[encoded data removed]",
      "text/plain": [
       "<Figure size 640x480 with 1 Axes>"
      ]
     },
     "metadata": {},
     "output_type": "display_data"
    }
   ],
   "source": [
    "from matplotlib import pyplot as plt\n",
    "# import seaborn as sns ## alternativa cheveree\n",
    "plt.plot(Xs, Ys)\n"
   ]
  },
  {
   "cell_type": "code",
   "execution_count": 65,
   "id": "b70f70a4-67f5-4879-b8a1-3b3526b85932",
   "metadata": {},
   "outputs": [
    {
     "data": {
      "text/plain": [
       "<matplotlib.lines.Line2D at 0x1f7d1809970>"
      ]
     },
     "execution_count": 65,
     "metadata": {},
     "output_type": "execute_result"
    },
    {
     "data": {
      "image/png": "[encoded data removed]",
      "text/plain": [
       "<Figure size 640x480 with 1 Axes>"
      ]
     },
     "metadata": {},
     "output_type": "display_data"
    }
   ],
   "source": [
    "import numpy as np\n",
    "import matplotlib.pyplot as plt\n",
    "\n",
    "# Definir la función\n",
    "def f(x):\n",
    "    return x**3 - 7*x**2 + 4*x + 12\n",
    "\n",
    "# Crear un rango de valores de x\n",
    "x = np.linspace(-5, 10, 400)  # Ajusta el rango y la cantidad de puntos según lo necesites\n",
    "y = f(x)\n",
    "\n",
    "# Graficar la función\n",
    "plt.plot(x, y, label=r\"$f(x) = x^3 - 7x^2 + 4x + 12$\")\n",
    "plt.xlabel(\"x\")\n",
    "plt.ylabel(\"f(x)\")\n",
    "plt.title(\"Gráfica de la función $f(x) = x^3 - 7x^2 + 4x + 12$\")\n",
    "plt.axhline(0, color='black', linewidth=0.5)\n",
    "plt.axvline(0, color='black', linewidth=0.5)\n"
   ]
  }
 ],
 "metadata": {
  "kernelspec": {
   "display_name": "Python 3 (ipykernel)",
   "language": "python",
   "name": "python3"
  },
  "language_info": {
   "codemirror_mode": {
    "name": "ipython",
    "version": 3
   },
   "file_extension": ".py",
   "mimetype": "text/x-python",
   "name": "python",
   "nbconvert_exporter": "python",
   "pygments_lexer": "ipython3",
   "version": "3.12.4"
  }
 },
 "nbformat": 4,
 "nbformat_minor": 5
}
